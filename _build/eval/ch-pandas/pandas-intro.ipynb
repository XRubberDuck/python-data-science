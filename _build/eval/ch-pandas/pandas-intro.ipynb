{
 "cells": [
  {
   "cell_type": "markdown",
   "id": "8841db2e",
   "metadata": {},
   "source": [
    "# pandas 简介\n",
    "\n",
    "pandas 库是一个流行的 Python 数据处理和分析库，它提供了名为 `DataFrame` 的数据结构，`DataFrame` 是一个二维表，有很多行和很多列，类似 Excel 表。基于 `DataFrame` 数据结构，pandas 提供了一系列数据处理和分析函数，是 Python 数据分析必备的库。pandas 的名字据说来自于 *pan*el *da*ta （面板数据），面板数据是计量经济学领域的一个最广泛使用的数据结构。可见，pandas 设计之初主要为经济和金融数据分析服务。\n",
    "\n",
    "### 安装 pandas\n",
    "\n",
    "可以使用 `conda` 或者 `pip` 安装："
   ]
  },
  {
   "cell_type": "code",
   "execution_count": 1,
   "id": "65bb7d12",
   "metadata": {
    "execution": {
     "iopub.execute_input": "2023-09-11T14:28:47.015524Z",
     "iopub.status.busy": "2023-09-11T14:28:47.014872Z",
     "iopub.status.idle": "2023-09-11T14:28:50.962031Z",
     "shell.execute_reply": "2023-09-11T14:28:50.960799Z"
    }
   },
   "outputs": [
    {
     "name": "stdout",
     "output_type": "stream",
     "text": [
      "Looking in indexes: https://pypi.tuna.tsinghua.edu.cn/simple\r\n",
      "Requirement already satisfied: pandas in /Users/luweizheng/anaconda3/envs/tpch/lib/python3.10/site-packages (1.4.2)\r\n",
      "Requirement already satisfied: python-dateutil>=2.8.1 in /Users/luweizheng/anaconda3/envs/tpch/lib/python3.10/site-packages (from pandas) (2.8.2)\r\n",
      "Requirement already satisfied: pytz>=2020.1 in /Users/luweizheng/anaconda3/envs/tpch/lib/python3.10/site-packages (from pandas) (2022.7.1)\r\n",
      "Requirement already satisfied: numpy>=1.21.0 in /Users/luweizheng/anaconda3/envs/tpch/lib/python3.10/site-packages (from pandas) (1.21.6)\r\n",
      "Requirement already satisfied: six>=1.5 in /Users/luweizheng/anaconda3/envs/tpch/lib/python3.10/site-packages (from python-dateutil>=2.8.1->pandas) (1.16.0)\r\n"
     ]
    }
   ],
   "source": [
    "# Hide outputs\n",
    "!pip install pandas -i https://pypi.tuna.tsinghua.edu.cn/simple"
   ]
  },
  {
   "cell_type": "markdown",
   "id": "52d92c15",
   "metadata": {},
   "source": [
    "### 导入 pandas\n",
    "\n",
    "导入 pandas："
   ]
  },
  {
   "cell_type": "code",
   "execution_count": 2,
   "id": "0e2cc177",
   "metadata": {
    "execution": {
     "iopub.execute_input": "2023-09-11T14:28:50.968210Z",
     "iopub.status.busy": "2023-09-11T14:28:50.967756Z",
     "iopub.status.idle": "2023-09-11T14:28:51.463224Z",
     "shell.execute_reply": "2023-09-11T14:28:51.462478Z"
    }
   },
   "outputs": [],
   "source": [
    "import pandas as pd"
   ]
  }
 ],
 "metadata": {
  "language_info": {
   "name": "python"
  }
 },
 "nbformat": 4,
 "nbformat_minor": 5
}