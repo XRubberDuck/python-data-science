{
 "cells": [
  {
   "cell_type": "markdown",
   "id": "f4f42170",
   "metadata": {},
   "source": [
    "# pandas\n",
    "\n",
    "```toc\n",
    ":maxdepth: 2\n",
    "\n",
    "pandas-intro\n",
    "series-dataframe\n",
    "dataframe-slicing\n",
    "data-preprocessing\n",
    "dataframe-groupby\n",
    "dataframe-merge-concat\n",
    "```"
   ]
  }
 ],
 "metadata": {
  "language_info": {
   "name": "python"
  }
 },
 "nbformat": 4,
 "nbformat_minor": 5
}