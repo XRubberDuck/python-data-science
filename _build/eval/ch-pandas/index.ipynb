{
 "cells": [
  {
   "cell_type": "markdown",
   "id": "081b0050",
   "metadata": {},
   "source": [
    "## pandas\n",
    "\n",
    "```toc\n",
    ":maxdepth: 2\n",
    "\n",
    "pandas-intro\n",
    "```"
   ]
  }
 ],
 "metadata": {
  "language_info": {
   "name": "python"
  }
 },
 "nbformat": 4,
 "nbformat_minor": 5
}