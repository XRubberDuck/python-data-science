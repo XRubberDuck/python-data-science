{
 "cells": [
  {
   "cell_type": "markdown",
   "id": "2570aefc",
   "metadata": {},
   "source": [
    "# NumPy 简介\n",
    "\n",
    "Python 语言其实并不是为科学计算而设计的，到了 2000 年左右，Python 在科学计算领域变得越来越受欢迎，但缺乏一个高效的数组处理工具。Python 的列表（list）虽然灵活，但在处理大型数据集时性能不佳。\n",
    "\n",
    "NumPy 并不是第一个 Python 科学计算库，它的前身有 Numeric、Numarray 等，并借鉴 Fortran、MATLAB、和 S 语言了优点。经过了一系列的演化发展，Travis Oliphant 在 2005 年创建了 NumPy 项目，并在 2006 年发布了 NumPy 1.0。NumPy 的目标是提供高性能的多维数组对象，以及用于数组操作的丰富函数库。NumPy 引入了 `ndarray` 这一核心数据结构。\n",
    "\n",
    "自从 NumPy 项目创建以来，它已经成为 Python 科学计算生态系统中的核心组件。许多其他科学计算和数据分析库，如 SciPy、pandas 和 Matplotlib，都构建在 NumPy 之上。\n",
    "\n",
    "### 安装 pandas\n",
    "\n",
    "可以使用 `conda` 或者 `pip` 安装："
   ]
  },
  {
   "cell_type": "code",
   "execution_count": 1,
   "id": "5d5f3c6f",
   "metadata": {
    "execution": {
     "iopub.execute_input": "2023-09-18T00:08:19.837612Z",
     "iopub.status.busy": "2023-09-18T00:08:19.837088Z",
     "iopub.status.idle": "2023-09-18T00:08:24.127444Z",
     "shell.execute_reply": "2023-09-18T00:08:24.126095Z"
    }
   },
   "outputs": [
    {
     "name": "stdout",
     "output_type": "stream",
     "text": [
      "Looking in indexes: https://pypi.tuna.tsinghua.edu.cn/simple\r\n",
      "Requirement already satisfied: numpy in /Users/luweizheng/anaconda3/envs/tpch/lib/python3.10/site-packages (1.21.6)\r\n"
     ]
    }
   ],
   "source": [
    "# Hide outputs\n",
    "!pip install numpy -i https://pypi.tuna.tsinghua.edu.cn/simple"
   ]
  }
 ],
 "metadata": {
  "language_info": {
   "name": "python"
  }
 },
 "nbformat": 4,
 "nbformat_minor": 5
}