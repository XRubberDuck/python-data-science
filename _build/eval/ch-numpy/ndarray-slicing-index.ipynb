{
 "cells": [
  {
   "cell_type": "markdown",
   "id": "833dbe57",
   "metadata": {},
   "source": [
    "# 切片与索引"
   ]
  }
 ],
 "metadata": {
  "language_info": {
   "name": "python"
  }
 },
 "nbformat": 4,
 "nbformat_minor": 5
}