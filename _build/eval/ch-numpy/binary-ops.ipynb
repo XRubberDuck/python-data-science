{
 "cells": [
  {
   "cell_type": "markdown",
   "id": "dcb422c2",
   "metadata": {},
   "source": [
    "# 二元函数"
   ]
  }
 ],
 "metadata": {
  "language_info": {
   "name": "python"
  }
 },
 "nbformat": 4,
 "nbformat_minor": 5
}