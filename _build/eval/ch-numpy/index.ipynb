{
 "cells": [
  {
   "cell_type": "markdown",
   "id": "5e3fc156",
   "metadata": {},
   "source": [
    "# NumPy\n",
    "\n",
    "```toc\n",
    ":maxdepth: 2\n",
    "\n",
    "numpy-intro\n",
    "ndarray\n",
    "```"
   ]
  }
 ],
 "metadata": {
  "language_info": {
   "codemirror_mode": {
    "name": "ipython",
    "version": 3
   },
   "file_extension": ".py",
   "mimetype": "text/x-python",
   "name": "python",
   "nbconvert_exporter": "python",
   "pygments_lexer": "ipython3",
   "version": "3.10.9"
  }
 },
 "nbformat": 4,
 "nbformat_minor": 5
}
