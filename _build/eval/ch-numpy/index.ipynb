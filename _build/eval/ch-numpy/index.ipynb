{
 "cells": [
  {
   "cell_type": "markdown",
   "id": "9cf8544f",
   "metadata": {},
   "source": [
    "# NumPy\n",
    "\n",
    "```toc\n",
    ":maxdepth: 2\n",
    "\n",
    "numpy-intro\n",
    "ndarray\n",
    "```"
   ]
  }
 ],
 "metadata": {
  "language_info": {
   "name": "python"
  }
 },
 "nbformat": 4,
 "nbformat_minor": 5
}