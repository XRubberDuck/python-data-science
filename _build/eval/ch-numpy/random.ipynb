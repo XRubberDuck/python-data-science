{
 "cells": [
  {
   "cell_type": "markdown",
   "id": "1cde71dc",
   "metadata": {},
   "source": [
    "# 随机数生成"
   ]
  }
 ],
 "metadata": {
  "language_info": {
   "name": "python"
  }
 },
 "nbformat": 4,
 "nbformat_minor": 5
}