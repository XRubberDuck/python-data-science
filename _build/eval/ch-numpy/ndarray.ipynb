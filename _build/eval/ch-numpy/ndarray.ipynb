{
 "cells": [
  {
   "cell_type": "markdown",
   "id": "95422b24",
   "metadata": {},
   "source": [
    "# ndarray\n",
    "\n",
    "NumPy 最核心的数据结构是多维数组（N-dimensional Array）： `ndarray`。 `ndarray` 是由同一数据类型的数据组成的数组列表。"
   ]
  },
  {
   "cell_type": "markdown",
   "id": "a29ddb19",
   "metadata": {},
   "source": [
    "```python\n",
    "import numpy as np\n",
    "```\n"
   ]
  },
  {
   "cell_type": "markdown",
   "id": "c444be40",
   "metadata": {},
   "source": [
    "### 创建 ndarray\n",
    "\n",
    "`array` 函数接收来自原生 Python 的各类数据，如列表、元组等，并转化为 `ndarray`；`array` 函数也可以接收一个 NumPy 的 `ndarray`。数组中的数据类型必须是一致的。"
   ]
  },
  {
   "cell_type": "markdown",
   "id": "78ecc806",
   "metadata": {},
   "source": [
    "```python\n",
    "# 列表 list\n",
    "ar1 = np.array([1,2,3,4])\n",
    "ar1\n",
    "```\n"
   ]
  },
  {
   "cell_type": "markdown",
   "id": "a05c2f38",
   "metadata": {},
   "source": [
    "```python\n",
    "# 元组 tuple\n",
    "ar2 = np.array((1,2,3,4))\n",
    "ar2\n",
    "```\n"
   ]
  },
  {
   "cell_type": "markdown",
   "id": "813a6324",
   "metadata": {},
   "source": [
    "### 数据类型：dtype\n",
    "\n",
    "在进一步深入了解各种创建 `ndarray` 的方式之前，我们需要了解一下数据类型的基础知识。计算机无法直接表征数值，其底层基于二进制表示数值，整数和浮点数（其实就是小数，计算机科学中一般称小数为浮点数）基于科学计数法，字符串是一个从整数到字符的映射。 NumPy 提供了不同的数据类型 `dtype`，不同的 `dtype` 所能表示的区间范围不同。比如，同为整数，就有以下几种类型，其所表示的数值区间差异较大。\n",
    "\n",
    "| dtype    \t| 区间                     \t|\n",
    "|----------\t|-----------------------\t|\n",
    "| np.int8  \t| -128 ~ 127            \t|\n",
    "| np.int16 \t| -32768 ~ 32767        \t|\n",
    "| np.int32 \t| $-2.1*10^9 \\sim 2.1*10 ^9$ \t|\n",
    "\n",
    "NumPy 所支持的数据类型主要有：\n",
    "\n",
    "* `np.bool_` ：布尔类型\n",
    "* `np.number` ：又细分为整数（比如 `np.int8` 等）和浮点类型（`np.float32` 等）。\n",
    "* `np.datetime64`：表示日期的数据类型\n",
    "* `np.character`：字符串类型\n",
    "\n",
    "这些数据类型往往都带有一个数字，比如 `np.int8`，数字表示这个数据类型占用了多少个比特（bit）的存储空间。1 个 bit 为一个 0/1 二进制。8 bit = 1 byte，即 8 比特位等于 1 个字节。\n",
    "\n",
    "根据上表，整数占用的存储空间越大，所能表示的数值范围越大。当我们编写简单的程序时，数值范围一般不会出现问题，但是当我们编写复杂的科学计算程序时，数值范围决定了计算的精度。例如，`np.int8` 只能表示 -128 ~ 127 范围的数值，超过这个数值的数字，如何被 `np.int8` 表示，存在较大不确定性，进而造成程序运行不准确。\n",
    "\n",
    "占用的 bit 越多，数据越精准，但也会使得对内存消耗越大。选择合适的数据类型有助于节省内存。刚刚接触数据类型的朋友，对于如何选择合适数据类型并不熟悉。大概可以按照如下准则：\n",
    "\n",
    "* 整数类型默认是 `np.int64`，但很多应用 `np.32` 就足够了。\n",
    "* 浮点数类型一般科学计算应用都使用 `np.float64`，深度学习类应用使用 `np.float32` 或者甚至更小的数据类型也足够了。\n",
    "\n",
    "### 创建特定的 ndarray\n",
    "\n",
    "#### arange() 与 linspace()\n",
    "\n",
    "`arange` 和 `linspace` 函数可用于生成一个数值数组。数值从区间为 $[start,stop)$ 中选择，一般从 `start` 开始，到 `stop` 结束，在这个区间内生成一系列值。\n",
    "\n",
    "`arange` 函数的常见形式：\n",
    "\n",
    "* `arange(stop)`\n",
    "* `arange(start, stop)`\n",
    "* `arange(start, stop, step)`\n",
    "\n",
    "其中，`step` 用于指定数值之间的间隔，默认为 1。"
   ]
  },
  {
   "cell_type": "markdown",
   "id": "3acefcef",
   "metadata": {},
   "source": [
    "```python\n",
    "# 以下两种方式等效\n",
    "np.arange(10)\n",
    "np.arange(stop=10)\n",
    "```\n"
   ]
  },
  {
   "cell_type": "markdown",
   "id": "0fd5aef0",
   "metadata": {},
   "source": [
    "`linspace` 函数生成 `num` 个均匀间隔的数值，也就是创建一个等差数列。\n",
    "\n",
    "常见形式：`linspace(start, stop, num)`。"
   ]
  },
  {
   "cell_type": "markdown",
   "id": "82ded9e5",
   "metadata": {},
   "source": [
    "```python\n",
    "# 生成在 1 和 5 之间 5 个均匀间隔的数组\n",
    "a = np.linspace(1,5,5)\n",
    "a\n",
    "```\n"
   ]
  },
  {
   "cell_type": "markdown",
   "id": "7f4bac3d",
   "metadata": {},
   "source": [
    "#### ones() 与 ones_like()\n",
    "\n",
    "`np.ones(shape)` 生成 `shape` 大小的、全为 1 数组。例如，生成 $3 \\times 3 \\times 6$ 的高维数组。"
   ]
  },
  {
   "cell_type": "markdown",
   "id": "c3c2f4d2",
   "metadata": {},
   "source": [
    "```python\n",
    "np.ones((2,3,4), dtype=np.float32)\n",
    "```\n"
   ]
  },
  {
   "cell_type": "markdown",
   "id": "7138febf",
   "metadata": {},
   "source": [
    "如果已经有一个多维数组 `a`，我们想根据这个数组 `a` 的形状生成一个全为 1 的数组："
   ]
  },
  {
   "cell_type": "markdown",
   "id": "6f81fa27",
   "metadata": {},
   "source": [
    "```python\n",
    "np.ones_like(a)\n",
    "```\n"
   ]
  },
  {
   "cell_type": "markdown",
   "id": "da188ca2",
   "metadata": {},
   "source": [
    "#### zeros() 与 zeros_like()\n",
    "\n",
    "`np.zeros()` 与 `np.ones()` 类似。`np.zeros(shape)` 生成 `shape` 大小的、全为 0 的数组。"
   ]
  },
  {
   "cell_type": "markdown",
   "id": "04020f8f",
   "metadata": {},
   "source": [
    "```python\n",
    "np.zeros((2,3,4))\n",
    "```\n"
   ]
  },
  {
   "cell_type": "markdown",
   "id": "10c1a242",
   "metadata": {},
   "source": [
    "如果已经有一个多维数组 `a`，我们想根据这个数组 `a` 的形状生成一个全为 0 的数组："
   ]
  },
  {
   "cell_type": "markdown",
   "id": "71567c73",
   "metadata": {},
   "source": [
    "```python\n",
    "np.zeros_like(a)\n",
    "```\n"
   ]
  },
  {
   "cell_type": "markdown",
   "id": "11e86ab3",
   "metadata": {},
   "source": [
    "#### full() 与 full_like()\n",
    "\n",
    "`np.full(shape,val)` 生成 `shape` 大小的、全为 `val` 的数组，即数组中每个元素值都是 `val`。"
   ]
  },
  {
   "cell_type": "markdown",
   "id": "5736f291",
   "metadata": {},
   "source": [
    "```python\n",
    "np.full((2,3,4), 6)\n",
    "```\n"
   ]
  },
  {
   "cell_type": "markdown",
   "id": "eaa0ac77",
   "metadata": {},
   "source": [
    "根据数组 `a` 的形状生成一个数组，元素值全为 `val`："
   ]
  },
  {
   "cell_type": "markdown",
   "id": "b17cfa73",
   "metadata": {},
   "source": [
    "```python\n",
    "np.full_like(a, 6)\n",
    "```\n"
   ]
  },
  {
   "cell_type": "markdown",
   "id": "dc249ced",
   "metadata": {},
   "source": [
    "#### eye()\n",
    "\n",
    "np.eye(n) 创建一个 $n \\times n$ 单位矩阵，对角线为 1，其余为 0。"
   ]
  },
  {
   "cell_type": "markdown",
   "id": "b615a1d3",
   "metadata": {},
   "source": [
    "```python\n",
    "np.eye(3)\n",
    "```\n"
   ]
  },
  {
   "cell_type": "markdown",
   "id": "2d69f1f4",
   "metadata": {},
   "source": [
    "### 常用属性\n",
    "\n",
    "直接打印一个 `ndarray` 可以看到它的值、`dtype` 等属性。"
   ]
  },
  {
   "cell_type": "markdown",
   "id": "e5395267",
   "metadata": {},
   "source": [
    "```python\n",
    "ar = np.array([[1,1,2,3,],\n",
    "               [4,5,6,7],\n",
    "               [8,9,10,11]])\n",
    "ar\n",
    "```\n"
   ]
  },
  {
   "cell_type": "markdown",
   "id": "3201541a",
   "metadata": {},
   "source": [
    "或者打印某些具体的属性。\n",
    "\n",
    "* ndim：多维数组的秩，或者说轴的数量，或者说数组有多少维度"
   ]
  },
  {
   "cell_type": "markdown",
   "id": "3dad3bef",
   "metadata": {},
   "source": [
    "```python\n",
    "ar.ndim\n",
    "```\n"
   ]
  },
  {
   "cell_type": "markdown",
   "id": "e4571e64",
   "metadata": {},
   "source": [
    "* 数组的尺度"
   ]
  },
  {
   "cell_type": "markdown",
   "id": "562b6b3d",
   "metadata": {},
   "source": [
    "```python\n",
    "ar.shape\n",
    "```\n"
   ]
  },
  {
   "cell_type": "markdown",
   "id": "2974ebb2",
   "metadata": {},
   "source": [
    "* 数组中元素的个数"
   ]
  },
  {
   "cell_type": "markdown",
   "id": "476683cd",
   "metadata": {},
   "source": [
    "```python\n",
    "ar.size\n",
    "```\n"
   ]
  },
  {
   "cell_type": "markdown",
   "id": "bc7030ee",
   "metadata": {},
   "source": [
    "* 元素的数据类型"
   ]
  },
  {
   "cell_type": "markdown",
   "id": "808ca7a7",
   "metadata": {},
   "source": [
    "```python\n",
    "ar.dtype\n",
    "```\n"
   ]
  },
  {
   "cell_type": "markdown",
   "id": "61f35457",
   "metadata": {},
   "source": [
    "* 每个元素的大小，以字节（Byte）为单位"
   ]
  },
  {
   "cell_type": "markdown",
   "id": "18fa1216",
   "metadata": {},
   "source": [
    "```python\n",
    "ar.itemsize\n",
    "```\n"
   ]
  },
  {
   "cell_type": "markdown",
   "id": "b6261321",
   "metadata": {},
   "source": [
    "### 数组维度变换\n",
    "\n",
    "另外，我们经常要对数据进行一些变换。\n",
    "\n",
    "#### 不改变原数组\n",
    "\n",
    "* `reshape()` 函数\n",
    "\n",
    "`reshape(shape)` 函数，不改变数组的元素，根据 `shape` 形状，生成一个新的数组。"
   ]
  },
  {
   "cell_type": "markdown",
   "id": "ee7fa21a",
   "metadata": {},
   "source": [
    "```python\n",
    "ar.reshape((2,6))\n",
    "```\n"
   ]
  },
  {
   "cell_type": "markdown",
   "id": "004f9709",
   "metadata": {},
   "source": [
    "* `flatten()` 函数\n",
    "\n",
    "`flatten()` 函数，对数组进行降维，将高维数组压缩成一个一维数组。"
   ]
  },
  {
   "cell_type": "markdown",
   "id": "84223caa",
   "metadata": {},
   "source": [
    "```python\n",
    "ar.flatten()\n",
    "```\n"
   ]
  },
  {
   "cell_type": "markdown",
   "id": "1ff1aa99",
   "metadata": {},
   "source": [
    "#### 改变原数组\n",
    "\n",
    "* `resize()` 函数\n",
    "\n",
    "`resize(shape)` 函数，返回一个 `shape` 形状的数组，功能与 `reshape()` 函数一致，但是修改原数组。\n",
    "\n",
    "提示：当新数组可容纳数据少于原数据，按照原数据选择前 `shape` 个数据；如果多于，则新数组会按照原数组中的数据顺序进行填补。"
   ]
  },
  {
   "cell_type": "markdown",
   "id": "3ba178c2",
   "metadata": {},
   "source": [
    "```python\n",
    "ar_new = np.resize(ar, (2, 5))\n",
    "ar_new\n",
    "```\n"
   ]
  },
  {
   "cell_type": "markdown",
   "id": "37356d1b",
   "metadata": {},
   "source": [
    "```python\n",
    "ar_new = np.resize(ar, (3, 5))\n",
    "ar_new\n",
    "```\n"
   ]
  },
  {
   "cell_type": "markdown",
   "id": "6d42aa8b",
   "metadata": {},
   "source": [
    "### 数据类型变换\n",
    "\n",
    "#### astype()\n",
    "\n",
    "`astype(new_type)` 函数，对数组的数据类型进行类型变化，基于对原始数据的拷贝创建一个新的数组。比如，将 `np.int` 类型元素修改为 `np.float64` 类型："
   ]
  },
  {
   "cell_type": "markdown",
   "id": "3769a4ce",
   "metadata": {},
   "source": [
    "```python\n",
    "new_ar = ar.astype(np.float64)\n",
    "new_ar\n",
    "```\n"
   ]
  },
  {
   "cell_type": "markdown",
   "id": "933a0a93",
   "metadata": {},
   "source": [
    "### 合并函数\n",
    "\n",
    "`np.concatenate()` 将两个或者多个数组合并成一个新数组。"
   ]
  },
  {
   "cell_type": "markdown",
   "id": "ea62c22d",
   "metadata": {},
   "source": [
    "```python\n",
    "b = np.linspace(1,9,7)\n",
    "\n",
    "c = np.concatenate((a,b)) #将 a,b 两个数组合并成为 c\n",
    "c\n",
    "```\n"
   ]
  },
  {
   "cell_type": "markdown",
   "id": "1205c905",
   "metadata": {},
   "source": [
    "### ndarray 与 Python 列表的转换\n",
    "\n",
    "列表作为 Python 中原始的数据类型，运算速度慢于 NumPy。如果需要与原生 Python 语言相适配，需做转换："
   ]
  },
  {
   "cell_type": "markdown",
   "id": "a29034ec",
   "metadata": {},
   "source": [
    "```python\n",
    "ar.tolist()\n",
    "```\n"
   ]
  }
 ],
 "metadata": {
  "language_info": {
   "name": "python"
  }
 },
 "nbformat": 4,
 "nbformat_minor": 5
}